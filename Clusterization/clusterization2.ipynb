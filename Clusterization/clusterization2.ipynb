{
 "cells": [
  {
   "cell_type": "code",
   "execution_count": 1,
   "metadata": {},
   "outputs": [],
   "source": [
    "\"\"\"\n",
    "\n",
    "Implementing Nearest Neighbor which is unsupervised learner for implementing neighbor searches.\n",
    "Data is from UCI repository, which contains reviews of a hotel.\n",
    "Author: bilalrahim\n",
    "\n",
    "\"\"\""
   ]
  },
  {
   "cell_type": "code",
   "execution_count": 93,
   "metadata": {},
   "outputs": [],
   "source": [
    "from sklearn.feature_extraction.text import CountVectorizer\n",
    "from sklearn.neighbors import NearestNeighbors\n",
    "import pandas as pd\n",
    "from string import punctuation as punc\n",
    "import string"
   ]
  },
  {
   "cell_type": "code",
   "execution_count": 102,
   "metadata": {},
   "outputs": [],
   "source": [
    "corpus=open('.\\\\datasets\\\\original.csv').read()"
   ]
  },
  {
   "cell_type": "code",
   "execution_count": 95,
   "metadata": {},
   "outputs": [],
   "source": [
    "data=corpus.split('\\n')\n",
    "data.remove(data[0])\n",
    "data.remove(data[-1])\n"
   ]
  },
  {
   "cell_type": "code",
   "execution_count": 96,
   "metadata": {},
   "outputs": [
    {
     "name": "stdout",
     "output_type": "stream",
     "text": [
      "this is string example wow\n"
     ]
    }
   ],
   "source": [
    "intab = \"\"\n",
    "outtab = \"\"\n",
    "trantab = str.maketrans(intab, outtab,string.punctuation)\n",
    "\n",
    "str = \"this is string example ....wow!!!\"\n",
    "print (str.translate(trantab))"
   ]
  },
  {
   "cell_type": "code",
   "execution_count": 97,
   "metadata": {},
   "outputs": [],
   "source": [
    "#Proprocessing Data.\n",
    "\n",
    "#Removing Punctuantions.\n",
    "for review in data:\n",
    "    review = review.translate(str.maketrans('','',string.punctuation))\n",
    "#Removing whitespaces.\n",
    "space_list = []\n",
    "for i in range(len(data)):\n",
    "    space_list.append(\" \".join(data[i].split()))\n",
    "#Removing empty Entries.\n",
    "processedData=[review for review in space_list if review !=\"\"]"
   ]
  },
  {
   "cell_type": "code",
   "execution_count": 98,
   "metadata": {},
   "outputs": [],
   "source": [
    "matrix=CountVectorizer().fit_transform(processedData)"
   ]
  },
  {
   "cell_type": "code",
   "execution_count": 99,
   "metadata": {},
   "outputs": [],
   "source": [
    "nNeighbor = NearestNeighbors(radius = 1).fit(matrix)\n",
    "nNeighbor2 = NearestNeighbors(radius = 0.5).fit(matrix)\n",
    "nNeighbor3 = NearestNeighbors(radius = 2).fit(matrix)"
   ]
  },
  {
   "cell_type": "code",
   "execution_count": 105,
   "metadata": {},
   "outputs": [
    {
     "data": {
      "text/plain": [
       "NearestNeighbors(algorithm='auto', leaf_size=30, metric='minkowski',\n",
       "         metric_params=None, n_jobs=None, n_neighbors=5, p=2, radius=0.5)"
      ]
     },
     "execution_count": 105,
     "metadata": {},
     "output_type": "execute_result"
    }
   ],
   "source": [
    "nNeighbor.fit(matrix)\n",
    "nNeighbor2.fit(matrix)"
   ]
  },
  {
   "cell_type": "code",
   "execution_count": 90,
   "metadata": {},
   "outputs": [
    {
     "data": {
      "text/plain": [
       "115637"
      ]
     },
     "execution_count": 90,
     "metadata": {},
     "output_type": "execute_result"
    }
   ],
   "source": []
  },
  {
   "cell_type": "code",
   "execution_count": null,
   "metadata": {},
   "outputs": [],
   "source": []
  }
 ],
 "metadata": {
  "kernelspec": {
   "display_name": "Python 3",
   "language": "python",
   "name": "python3"
  },
  "language_info": {
   "codemirror_mode": {
    "name": "ipython",
    "version": 3
   },
   "file_extension": ".py",
   "mimetype": "text/x-python",
   "name": "python",
   "nbconvert_exporter": "python",
   "pygments_lexer": "ipython3",
   "version": "3.7.3"
  }
 },
 "nbformat": 4,
 "nbformat_minor": 2
}
