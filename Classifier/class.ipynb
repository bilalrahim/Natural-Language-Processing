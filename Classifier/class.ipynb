{
 "cells": [
  {
   "cell_type": "code",
   "execution_count": 259,
   "metadata": {},
   "outputs": [
    {
     "data": {
      "text/plain": [
       "'Assignment 2\\n\\nClassifiers used\\n\\n1.KNN.\\n2.Naive Bayes.\\n3.Random Forest.\\n4.Linear\\n\\n'"
      ]
     },
     "execution_count": 259,
     "metadata": {},
     "output_type": "execute_result"
    }
   ],
   "source": [
    "\"\"\"\n",
    "Comparison of accuracy of different classifiers. \n",
    "\n",
    "Classifiers used\n",
    "\n",
    "1.KNN.\n",
    "2.Naive Bayes.\n",
    "3.Random Forest.\n",
    "4.Linear\n",
    "\n",
    "\"\"\""
   ]
  },
  {
   "cell_type": "code",
   "execution_count": 258,
   "metadata": {},
   "outputs": [],
   "source": [
    "from sklearn.neighbors import KNeighborsClassifier\n",
    "from sklearn.feature_extraction.text import CountVectorizer\n",
    "from sklearn.feature_extraction.text import TfidfTransformer\n",
    "from sklearn.model_selection import train_test_split\n",
    "from sklearn.metrics import accuracy_score\n",
    "from sklearn.naive_bayes import BernoulliNB\n",
    "from sklearn.ensemble import RandomForestClassifier\n",
    "from sklearn.neighbors import KNeighborsClassifier\n",
    "from sklearn.svm import LinearSVC\n",
    "import matplotlib.pyplot as plt; plt.rcdefaults()"
   ]
  },
  {
   "cell_type": "code",
   "execution_count": 238,
   "metadata": {},
   "outputs": [],
   "source": [
    "#To display figures inline, because jupyter notebook doesnt have the option to open themm in new window.\n",
    "%matplotlib inline"
   ]
  },
  {
   "cell_type": "code",
   "execution_count": 96,
   "metadata": {},
   "outputs": [],
   "source": [
    "corpus=open('C:\\\\Users\\\\Bilal\\\\Downloads\\\\badges.data').read()"
   ]
  },
  {
   "cell_type": "code",
   "execution_count": 97,
   "metadata": {},
   "outputs": [],
   "source": [
    "listCorpus=corpus.split('\\n')\n",
    "listCorpus.remove(listCorpus[0])\n",
    "listCorpus.remove(listCorpus[-1])"
   ]
  },
  {
   "cell_type": "code",
   "execution_count": 128,
   "metadata": {},
   "outputs": [],
   "source": [
    "X, y = [], []\n",
    "for row in listCorpus:\n",
    "    label = row[:1]\n",
    "    name = row[2:]\n",
    "    X.append(name)\n",
    "    y.append(label)"
   ]
  },
  {
   "cell_type": "code",
   "execution_count": 220,
   "metadata": {},
   "outputs": [],
   "source": [
    "#Q Trying different parameteres with Count Vectorizer\n",
    "countVect=CountVectorizer(max_features=100,max_df=3,stop_words='english',lowercase='true',binary='true')\n",
    "K=countVect.fit_transform(X)"
   ]
  },
  {
   "cell_type": "code",
   "execution_count": 221,
   "metadata": {},
   "outputs": [],
   "source": [
    "voc=countVect.vocabulary_\n",
    "li=countVect.get_feature_names()"
   ]
  },
  {
   "cell_type": "code",
   "execution_count": 222,
   "metadata": {},
   "outputs": [],
   "source": [
    "#Trying TfidifTransformer with smooth_idf\n",
    "TfidfVec=TfidfTransformer(smooth_idf=True)\n",
    "vecData=TfidfVec.fit_transform(K)"
   ]
  },
  {
   "cell_type": "code",
   "execution_count": 233,
   "metadata": {},
   "outputs": [],
   "source": [
    "#Different Classifiers used.\n",
    "knnc=KNeighborsClassifier(n_neighbors=3,algorithm='auto')\n",
    "navBer=BernoulliNB()\n",
    "RFC = RandomForestClassifier(max_depth=2)\n",
    "linearSVC = LinearSVC(random_state=0, tol=1e-5)"
   ]
  },
  {
   "cell_type": "code",
   "execution_count": 234,
   "metadata": {},
   "outputs": [],
   "source": [
    "train_x, test_x, train_y, test_y = train_test_split(K, y, shuffle = True, train_size = 0.7,test_size=0.3)"
   ]
  },
  {
   "cell_type": "code",
   "execution_count": 235,
   "metadata": {},
   "outputs": [
    {
     "name": "stderr",
     "output_type": "stream",
     "text": [
      "C:\\Users\\Bilal\\Anaconda3\\lib\\site-packages\\sklearn\\ensemble\\forest.py:246: FutureWarning: The default value of n_estimators will change from 10 in version 0.20 to 100 in 0.22.\n",
      "  \"10 in version 0.20 to 100 in 0.22.\", FutureWarning)\n"
     ]
    },
    {
     "data": {
      "text/plain": [
       "LinearSVC(C=1.0, class_weight=None, dual=True, fit_intercept=True,\n",
       "     intercept_scaling=1, loss='squared_hinge', max_iter=1000,\n",
       "     multi_class='ovr', penalty='l2', random_state=0, tol=1e-05, verbose=0)"
      ]
     },
     "execution_count": 235,
     "metadata": {},
     "output_type": "execute_result"
    }
   ],
   "source": [
    "knnc.fit(train_x,train_y)\n",
    "navBer.fit(train_x,train_y)\n",
    "RFC.fit(train_x,train_y)\n",
    "linearSVC.fit(train_x,train_y)"
   ]
  },
  {
   "cell_type": "code",
   "execution_count": 253,
   "metadata": {},
   "outputs": [
    {
     "name": "stdout",
     "output_type": "stream",
     "text": [
      "Accuracy knn:  0.7191011235955056\n",
      "Accuracy nav:  0.6966292134831461\n",
      "Accuracy RFC:  0.6741573033707865\n",
      "Accuracy Linear:  0.7191011235955056\n"
     ]
    }
   ],
   "source": [
    "#Accuracies of different classifiers\n",
    "knnPre=knnc.predict(test_x)\n",
    "navPre=navBer.predict(test_x)\n",
    "RFCPre=RFC.predict(test_x)\n",
    "linearPre=linearSVC.predict(test_x)\n",
    "print('Accuracy knn: ', accuracy_score(test_y, knnPre))\n",
    "print('Accuracy nav: ', accuracy_score(test_y, navPre))\n",
    "print('Accuracy RFC: ', accuracy_score(test_y, RFCPre))\n",
    "print('Accuracy Linear: ', accuracy_score(test_y, linearPre))"
   ]
  },
  {
   "cell_type": "code",
   "execution_count": 260,
   "metadata": {},
   "outputs": [],
   "source": [
    "#Work for plotting\n",
    "A=accuracy_score(test_y, knnPre)\n",
    "B=accuracy_score(test_y, navPre)\n",
    "C=accuracy_score(test_y, RFCPre)\n",
    "D=accuracy_score(test_y, linearPre)\n",
    "objects = ('KNN', 'NAIVE', 'RFC', 'LINEAR')\n",
    "accu=[A,B,C,D]"
   ]
  },
  {
   "cell_type": "code",
   "execution_count": 257,
   "metadata": {},
   "outputs": [
    {
     "data": {
      "image/png": "[encoded data removed]",
      "text/plain": [
       "<Figure size 640x480 with 1 Axes>"
      ]
     },
     "metadata": {},
     "output_type": "display_data"
    }
   ],
   "source": [
    "plt.barh([1,2,3,4], accu, align='center', alpha=0.3)\n",
    "plt.yticks([1,2,3,4], objects)\n",
    "plt.xlabel('Accuracy')\n",
    "plt.title('Accuracies of different Classifiers')\n",
    "plt.show()"
   ]
  },
  {
   "cell_type": "code",
   "execution_count": null,
   "metadata": {},
   "outputs": [],
   "source": [
    "#Top 3 classifiers\n",
    "#Linear\n",
    "#KNN\n",
    "#RFC"
   ]
  },
  {
   "cell_type": "code",
   "execution_count": null,
   "metadata": {},
   "outputs": [],
   "source": []
  },
  {
   "cell_type": "code",
   "execution_count": null,
   "metadata": {},
   "outputs": [],
   "source": []
  },
  {
   "cell_type": "code",
   "execution_count": null,
   "metadata": {},
   "outputs": [],
   "source": []
  },
  {
   "cell_type": "code",
   "execution_count": null,
   "metadata": {},
   "outputs": [],
   "source": []
  }
 ],
 "metadata": {
  "kernelspec": {
   "display_name": "Python 3",
   "language": "python",
   "name": "python3"
  },
  "language_info": {
   "codemirror_mode": {
    "name": "ipython",
    "version": 3
   },
   "file_extension": ".py",
   "mimetype": "text/x-python",
   "name": "python",
   "nbconvert_exporter": "python",
   "pygments_lexer": "ipython3",
   "version": "3.7.3"
  }
 },
 "nbformat": 4,
 "nbformat_minor": 2
}
